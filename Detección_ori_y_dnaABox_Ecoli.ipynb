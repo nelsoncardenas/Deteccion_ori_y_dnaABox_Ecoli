{
  "nbformat": 4,
  "nbformat_minor": 0,
  "metadata": {
    "colab": {
      "name": "Detección_ori_y_dnaABox_Ecoli",
      "provenance": [],
      "collapsed_sections": [],
      "authorship_tag": "ABX9TyP44AODe+si+fbOTkdiyU2t",
      "include_colab_link": true
    },
    "kernelspec": {
      "name": "python3",
      "display_name": "Python 3"
    }
  },
  "cells": [
    {
      "cell_type": "markdown",
      "metadata": {
        "id": "view-in-github",
        "colab_type": "text"
      },
      "source": [
        "<a href=\"https://colab.research.google.com/github/theinem/Deteccion_ori_y_dnaABox_Ecoli/blob/master/Detecci%C3%B3n_ori_y_dnaABox_Ecoli.ipynb\" target=\"_parent\"><img src=\"https://colab.research.google.com/assets/colab-badge.svg\" alt=\"Open In Colab\"/></a>"
      ]
    },
    {
      "cell_type": "markdown",
      "metadata": {
        "id": "2bWO27rk9VUJ",
        "colab_type": "text"
      },
      "source": [
        "# ***Detección de ori y dnaA box para la bacteria Escherichia Coli***\n",
        "Este notebook contiene los pasos para emplear Google Colab para el análisis del genoma de la baceteria E. Coli. Está un paso a paso y una explicación final de las aplicaciones y limitaciones del algoritmo."
      ]
    },
    {
      "cell_type": "markdown",
      "metadata": {
        "id": "gj9mp1I06Fnm",
        "colab_type": "text"
      },
      "source": [
        "### Montar el disco virtual"
      ]
    },
    {
      "cell_type": "code",
      "metadata": {
        "id": "Teet52hY4o3W",
        "colab_type": "code",
        "outputId": "608342c1-a44c-4701-c611-960c6931f13d",
        "colab": {
          "base_uri": "https://localhost:8080/",
          "height": 130
        }
      },
      "source": [
        "from google.colab import drive\n",
        "drive.mount('/content/drive')"
      ],
      "execution_count": 1,
      "outputs": [
        {
          "output_type": "stream",
          "text": [
            "Go to this URL in a browser: https://accounts.google.com/o/oauth2/auth?client_id=947318989803-6bn6qk8qdgf4n4g3pfee6491hc0brc4i.apps.googleusercontent.com&redirect_uri=urn%3aietf%3awg%3aoauth%3a2.0%3aoob&response_type=code&scope=email%20https%3a%2f%2fwww.googleapis.com%2fauth%2fdocs.test%20https%3a%2f%2fwww.googleapis.com%2fauth%2fdrive%20https%3a%2f%2fwww.googleapis.com%2fauth%2fdrive.photos.readonly%20https%3a%2f%2fwww.googleapis.com%2fauth%2fpeopleapi.readonly\n",
            "\n",
            "Enter your authorization code:\n",
            "··········\n",
            "Mounted at /content/drive\n"
          ],
          "name": "stdout"
        }
      ]
    },
    {
      "cell_type": "markdown",
      "metadata": {
        "id": "0vYWZkRC6CQQ",
        "colab_type": "text"
      },
      "source": [
        "### Librerías"
      ]
    },
    {
      "cell_type": "code",
      "metadata": {
        "id": "aDO3NH226BT2",
        "colab_type": "code",
        "colab": {}
      },
      "source": [
        "import matplotlib.pyplot as plt"
      ],
      "execution_count": 0,
      "outputs": []
    },
    {
      "cell_type": "markdown",
      "metadata": {
        "id": "yxL-Ysli6OCr",
        "colab_type": "text"
      },
      "source": [
        "### Lectura del archivo"
      ]
    },
    {
      "cell_type": "code",
      "metadata": {
        "id": "pYDCye1o4Rge",
        "colab_type": "code",
        "colab": {}
      },
      "source": [
        "f = open('/content/drive/My Drive/Colab Notebooks/Bioinformatics/E_coli.txt', 'r')\n",
        "genome = f.read()"
      ],
      "execution_count": 0,
      "outputs": []
    },
    {
      "cell_type": "markdown",
      "metadata": {
        "id": "77yqdY4P6J-0",
        "colab_type": "text"
      },
      "source": [
        "### Frecuencia de Citosinas en una longitud igual a la mitad de la secuencia"
      ]
    },
    {
      "cell_type": "code",
      "metadata": {
        "id": "q5wsGUCXv_vP",
        "colab_type": "code",
        "colab": {}
      },
      "source": [
        "# Input:  genoma y símbolo\n",
        "# Output: FasterSymbolArray(Genome, symbol)\n",
        "def FasterSymbolArray(Genome, symbol):\n",
        "    array = {}\n",
        "    n = len(Genome)\n",
        "    ExtendedGenome = Genome + Genome[0:n//2]\n",
        "\n",
        "    # look at the first half of Genome to compute first array value\n",
        "    array[0] = PatternCount(symbol, Genome[0:n//2])\n",
        "\n",
        "    for i in range(1, n):\n",
        "        # start by setting the current array value equal to the previous array value\n",
        "        array[i] = array[i-1]\n",
        "\n",
        "        # the current array value can differ from the previous array value by at most 1\n",
        "        if ExtendedGenome[i-1] == symbol:\n",
        "            array[i] = array[i]-1\n",
        "        if ExtendedGenome[i+(n//2)-1] == symbol:\n",
        "            array[i] = array[i]+1\n",
        "    return array\n",
        "\n",
        "def Reverse(Pattern):\n",
        "    return Pattern[::-1]\n",
        "\n",
        "def Complement(Pattern):\n",
        "    complement = ''\n",
        "    for char in Pattern:\n",
        "        if char=='A':  complement += 'T'\n",
        "        if char==\"T\":  complement += 'A'\n",
        "        if char==\"G\":  complement += 'C'\n",
        "        if char==\"C\":  complement += 'G'\n",
        "    return complement\n",
        "\n",
        "def ReverseComplement(Pattern):\n",
        "    Pattern = Reverse(Pattern) # realiza el inverso de una cadena de caracteres\n",
        "    Pattern = Complement(Pattern) # realiza el complemento de cada nucleótido\n",
        "    return Pattern\n",
        "\n",
        "# Input:  genoma y patrón\n",
        "# Output: cantidad de veces que el patrón está en el genoma\n",
        "#Esta función cuenta tanto la presencia del patrón como su reverso complementario\n",
        "def PatternCount(Pattern, Text):\n",
        "    count = 0\n",
        "    for i in range(len(Text)-len(Pattern)+1):\n",
        "        if Text[i:i+len(Pattern)] == Pattern or Text[i:i+len(Pattern)] == ReverseComplement(Pattern):\n",
        "            count = count+1\n",
        "    return count \n",
        "\n",
        "def FrequencyMap(Text, k):\n",
        "    freq = {}\n",
        "    n = len(Text)\n",
        "    for i in range(n-k+1):\n",
        "        Pattern = Text[i:i+k]\n",
        "        freq[Pattern] = PatternCount(Pattern, Text)\n",
        "    return freq\n",
        "\n",
        "def FrequentWords(Text, k):\n",
        "    words = []\n",
        "    freq = FrequencyMap(Text, k)\n",
        "    m = max(freq.values())\n",
        "    for key in freq:\n",
        "        if freq[key] == m:\n",
        "            words.append(key)\n",
        "    return words, freq"
      ],
      "execution_count": 0,
      "outputs": []
    },
    {
      "cell_type": "code",
      "metadata": {
        "id": "i4J_JJtY5Tp2",
        "colab_type": "code",
        "outputId": "d8e79529-527b-47ce-d5bd-d27c8a7ec11c",
        "colab": {
          "base_uri": "https://localhost:8080/",
          "height": 290
        }
      },
      "source": [
        "array = FasterSymbolArray(genome, 'C')\n",
        "plt.plot(*zip(*sorted(array.items())))\n",
        "plt.xlabel('genome position')\n",
        "plt.ylabel('Cytosine presence')\n",
        "plt.show()"
      ],
      "execution_count": 5,
      "outputs": [
        {
          "output_type": "display_data",
          "data": {
            "image/png": "[encoded data removed]",
            "text/plain": [
              "<Figure size 432x288 with 1 Axes>"
            ]
          },
          "metadata": {
            "tags": [],
            "needs_background": "light"
          }
        }
      ]
    },
    {
      "cell_type": "markdown",
      "metadata": {
        "id": "0rBLcvHTDxC1",
        "colab_type": "text"
      },
      "source": [
        "### Sesgo de Guanina y Citosina"
      ]
    },
    {
      "cell_type": "code",
      "metadata": {
        "id": "6qKsHN6qDWiI",
        "colab_type": "code",
        "colab": {}
      },
      "source": [
        "# Input:  genoma\n",
        "# Output: lista del sesgo acumulado\n",
        "def SkewArray(Genome):\n",
        "    skew = [0]\n",
        "    score = {\"A\":0, \"T\":0, \"C\":-1, \"G\":1}\n",
        "    for i in range(1,len(Genome)+1):\n",
        "            skew.append(score[Genome[i-1]] + skew[i-1])\n",
        "    return skew\n",
        "    \n",
        "# Input:  genoma\n",
        "# Output: lista de posiciones donde se encuentra el mínimo del sesgo\n",
        "def MinimumSkew(Genome):\n",
        "    skew = SkewArray(Genome)\n",
        "    minimum = min(skew)\n",
        "    positions = [index for index, element in enumerate(skew) if element == minimum]\n",
        "    return positions"
      ],
      "execution_count": 0,
      "outputs": []
    },
    {
      "cell_type": "code",
      "metadata": {
        "id": "b76o83Pu698G",
        "colab_type": "code",
        "outputId": "73204772-be42-47c3-c799-53c1b798ecea",
        "colab": {
          "base_uri": "https://localhost:8080/",
          "height": 279
        }
      },
      "source": [
        "skew = SkewArray(genome)\n",
        "plt.plot(skew)\n",
        "plt.xlabel('genome position')\n",
        "plt.ylabel('skew')\n",
        "plt.show()"
      ],
      "execution_count": 7,
      "outputs": [
        {
          "output_type": "display_data",
          "data": {
            "image/png": "[encoded data removed]",
            "text/plain": [
              "<Figure size 432x288 with 1 Axes>"
            ]
          },
          "metadata": {
            "tags": [],
            "needs_background": "light"
          }
        }
      ]
    },
    {
      "cell_type": "markdown",
      "metadata": {
        "id": "Nop6jPavBGCf",
        "colab_type": "text"
      },
      "source": [
        "### Candidatos para ***ori***\n",
        "En esta etapa se generan los candidatos a ori (ori_candidates)"
      ]
    },
    {
      "cell_type": "code",
      "metadata": {
        "id": "CdDk15Cv7qFr",
        "colab_type": "code",
        "outputId": "9826b388-23c4-4079-a9e6-4d8b070dfaf8",
        "colab": {
          "base_uri": "https://localhost:8080/",
          "height": 54
        }
      },
      "source": [
        "print('Maximum skew is in position:', skew.index(max(skew)))\n",
        "print('Minimum skew is in position:', skew.index(min(skew)), 'AND is an ori candidate')"
      ],
      "execution_count": 8,
      "outputs": [
        {
          "output_type": "stream",
          "text": [
            "Maximum skew is in position: 1550413\n",
            "Minimum skew is in position: 3923620 AND is an ori candidate\n"
          ],
          "name": "stdout"
        }
      ]
    },
    {
      "cell_type": "code",
      "metadata": {
        "id": "MomyotH2-w7P",
        "colab_type": "code",
        "outputId": "de203feb-67e0-4041-b3d9-acf1f0aa2259",
        "colab": {
          "base_uri": "https://localhost:8080/",
          "height": 36
        }
      },
      "source": [
        "ori_candidates = MinimumSkew(genome)\n",
        "ori_candidates"
      ],
      "execution_count": 9,
      "outputs": [
        {
          "output_type": "execute_result",
          "data": {
            "text/plain": [
              "[3923620, 3923621, 3923622, 3923623]"
            ]
          },
          "metadata": {
            "tags": []
          },
          "execution_count": 9
        }
      ]
    },
    {
      "cell_type": "markdown",
      "metadata": {
        "id": "0EelTdS0A-QG",
        "colab_type": "text"
      },
      "source": [
        "### Distancia de Hamming para caracteres"
      ]
    },
    {
      "cell_type": "code",
      "metadata": {
        "id": "MoAdZ60GBbLt",
        "colab_type": "code",
        "colab": {}
      },
      "source": [
        "def HammingDistance(p, q):\n",
        "    if len(p) == len(q):\n",
        "        distance = 0\n",
        "        for i in range(len(p)):\n",
        "            if p[i] != q[i]:\n",
        "                distance += 1\n",
        "        return distance\n",
        "    else:\n",
        "        print('character length are not equal!')\n",
        "\n",
        "def ApproximatePatternMatching(Text, Pattern, d):\n",
        "    positions = [] # inicialización de lista de posiciones\n",
        "    for i in range(len(Text)-len(Pattern)+1):\n",
        "        q = Text[i:i+len(Pattern)]\n",
        "        if HammingDistance(Pattern, q) <= d:\n",
        "            positions.append(i)\n",
        "    return positions\n",
        "\n",
        "# Input:  patrón, texto (genoma) y d(distancia de hamming mínima)\n",
        "# Output: frecuencia de patrones\n",
        "def ApproximatePatternCount(Pattern, Text, d):\n",
        "    count = 0 # inicializar contador\n",
        "    for i in range(len(Text)-len(Pattern)+1):\n",
        "        q = Text[i:i+len(Pattern)]\n",
        "        if HammingDistance(Pattern, q) <= d:\n",
        "            count += 1\n",
        "        if HammingDistance(ReverseComplement(Pattern), q) <= d:\n",
        "            count += 1\n",
        "    return count"
      ],
      "execution_count": 0,
      "outputs": []
    },
    {
      "cell_type": "code",
      "metadata": {
        "id": "bhMNxV4e-z3a",
        "colab_type": "code",
        "outputId": "31fcb6c0-893a-4a28-8907-abccbe829168",
        "colab": {
          "base_uri": "https://localhost:8080/",
          "height": 36
        }
      },
      "source": [
        "p = 'GGGCCCTTT'\n",
        "q = 'GGACCCTGG'\n",
        "HammingDistance(p, q) #valor esperado = 3"
      ],
      "execution_count": 11,
      "outputs": [
        {
          "output_type": "execute_result",
          "data": {
            "text/plain": [
              "3"
            ]
          },
          "metadata": {
            "tags": []
          },
          "execution_count": 11
        }
      ]
    },
    {
      "cell_type": "markdown",
      "metadata": {
        "id": "M07680SktCyr",
        "colab_type": "text"
      },
      "source": [
        "### Conteo de k-mers dentro de la ventana candidata para ori\n",
        "Se emplea una ventana de 500 y se busca un 9-mer. La lista **words** contendrá todas las cadenas posibles."
      ]
    },
    {
      "cell_type": "code",
      "metadata": {
        "id": "cYHBzOx5ExLC",
        "colab_type": "code",
        "outputId": "1a822237-86d6-4004-a5b9-8956e3ee7e30",
        "colab": {
          "base_uri": "https://localhost:8080/",
          "height": 56
        }
      },
      "source": [
        "k = 9\n",
        "window_size = 500\n",
        "Text = genome[ori_candidates[0] : ori_candidates[0] + window_size]\n",
        "words, freq = FrequentWords(Text, k)\n",
        "print(words)"
      ],
      "execution_count": 12,
      "outputs": [
        {
          "output_type": "stream",
          "text": [
            "['AAGGATCCG', 'AGGATCCGG', 'CTGTGGATA', 'TGTGGATAA', 'GTGGATAAC', 'AAGATCAAC', 'AGATCAACA', 'GCTGGGATC', 'TGGATAACT', 'AGTTATCCA', 'GTTATCCAC', 'TTATCCACA', 'TATCCACAG', 'GATCCCAGC', 'TGTTGATCT', 'GTTGATCTT']\n"
          ],
          "name": "stdout"
        }
      ]
    },
    {
      "cell_type": "markdown",
      "metadata": {
        "id": "xAouWEhCtgoa",
        "colab_type": "text"
      },
      "source": [
        "### Filtrado de 9-mers y postulación de posibles dnaA boxes\n",
        "Ahora se seguirá un proceso de análisis para filtrar los 9-mers más frecuentes (si se encuentra un inverso complementario, se sumará tanto al inverso como al original, esto duplicará los contadores, pero simplifica la lógica del código)."
      ]
    },
    {
      "cell_type": "code",
      "metadata": {
        "id": "-YidJYHwdwGO",
        "colab_type": "code",
        "outputId": "8f7234bd-7921-401f-a141-7a38c6f6bb94",
        "colab": {
          "base_uri": "https://localhost:8080/",
          "height": 93
        }
      },
      "source": [
        "mismatch = 1\n",
        "dnaA_candidates = {}\n",
        "for word in words:\n",
        "  dnaA_candidates[word] = ApproximatePatternCount(word, Text, mismatch)\n",
        "print('Frecuencia de cadenas de longitud 9:', dnaA_candidates)\n",
        "\n",
        "maximum = max(dnaA_candidates.values())\n",
        "\n",
        "# eliminar los conteos menores\n",
        "for word, count in list(dnaA_candidates.items()):\n",
        "  if count != maximum:\n",
        "    del dnaA_candidates[word]\n",
        "print('Cadenas más frecuentes:', dnaA_candidates)\n",
        "\n",
        "# detectar los inversos complementarios\n",
        "complement = []\n",
        "for word in list(dnaA_candidates.keys()):\n",
        "  ensayo = []\n",
        "  for word2 in list(dnaA_candidates.keys()):\n",
        "    ensayo.append(word2)\n",
        "    if ReverseComplement(word) == word2:\n",
        "      if word not in complement and ReverseComplement(word) not in complement:\n",
        "        complement.append(word)\n",
        "print('Cadenas no repetidas:', complement)\n",
        "# eliminar los inversos complementarios\n",
        "for word in complement:\n",
        "  dnaA_candidates.pop(ReverseComplement(word), None)"
      ],
      "execution_count": 13,
      "outputs": [
        {
          "output_type": "stream",
          "text": [
            "Frecuencia de cadenas de longitud 9: {'AAGGATCCG': 2, 'AGGATCCGG': 3, 'CTGTGGATA': 3, 'TGTGGATAA': 4, 'GTGGATAAC': 4, 'AAGATCAAC': 3, 'AGATCAACA': 2, 'GCTGGGATC': 4, 'TGGATAACT': 3, 'AGTTATCCA': 3, 'GTTATCCAC': 4, 'TTATCCACA': 4, 'TATCCACAG': 3, 'GATCCCAGC': 4, 'TGTTGATCT': 2, 'GTTGATCTT': 3}\n",
            "Cadenas más frecuentes: {'TGTGGATAA': 4, 'GTGGATAAC': 4, 'GCTGGGATC': 4, 'GTTATCCAC': 4, 'TTATCCACA': 4, 'GATCCCAGC': 4}\n",
            "Cadenas no repetidas: ['TGTGGATAA', 'GTGGATAAC', 'GCTGGGATC']\n"
          ],
          "name": "stdout"
        }
      ]
    },
    {
      "cell_type": "code",
      "metadata": {
        "id": "HC1Yfkht-LFL",
        "colab_type": "code",
        "outputId": "784a702d-5c63-49ae-a6c8-5fbfcdd7b417",
        "colab": {
          "base_uri": "https://localhost:8080/",
          "height": 36
        }
      },
      "source": [
        "print('Los candidatos a dnaA box son:', dnaA_candidates)"
      ],
      "execution_count": 14,
      "outputs": [
        {
          "output_type": "stream",
          "text": [
            "Los candidatos a dnaA box son: {'TGTGGATAA': 4, 'GTGGATAAC': 4, 'GCTGGGATC': 4}\n"
          ],
          "name": "stdout"
        }
      ]
    },
    {
      "cell_type": "code",
      "metadata": {
        "id": "ksKsJFvda4hB",
        "colab_type": "code",
        "colab": {}
      },
      "source": [
        "f.close()"
      ],
      "execution_count": 0,
      "outputs": []
    },
    {
      "cell_type": "markdown",
      "metadata": {
        "id": "szvcl9D4uJ8w",
        "colab_type": "text"
      },
      "source": [
        "# **---Con esto damos por terminado el código---**\n",
        "### **Este proceso sirve como apoyo para que un biólogo haga menos experimentos al validar la ubicación real de una dnaA box**.\n",
        "\n",
        "\n",
        "# *Posibles complicaciones*\n",
        "\n",
        "\n",
        "*   Los diagramas de sesgo son más complicados en otros genomas.\n",
        "*   El punto terminal de la copia no siempre está opuesto al ori.\n",
        "*   Las dnaA boxes no siempre son tan frecuentes, es decir, no cumplen la condición (500, 3) para un 9-mer\n",
        "\n"
      ]
    }
  ]
}